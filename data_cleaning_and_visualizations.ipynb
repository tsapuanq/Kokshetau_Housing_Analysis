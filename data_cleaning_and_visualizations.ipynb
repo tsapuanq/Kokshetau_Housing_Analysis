{
 "cells": [
  {
   "cell_type": "markdown",
   "id": "6f15fcb1-8f26-4bf3-a462-27f038c89c61",
   "metadata": {},
   "source": [
    "# DATA CLEANING "
   ]
  },
  {
   "cell_type": "markdown",
   "id": "ee19a4bf-bb3a-4f18-83b1-a2d6c6fc2f05",
   "metadata": {},
   "source": [
    "#### 0 step. Import necessary libraries"
   ]
  },
  {
   "cell_type": "code",
   "execution_count": 1,
   "id": "c27c75cf-ce56-4a35-959e-46f6bee28171",
   "metadata": {},
   "outputs": [],
   "source": [
    "#-------------------------- \n",
    "\n",
    "import pandas as pd\n",
    "import numpy as np"
   ]
  },
  {
   "cell_type": "markdown",
   "id": "8efd3437-f6f3-435a-ac91-90c714e56ca5",
   "metadata": {},
   "source": [
    "#### 1 step. Upload our dataset"
   ]
  },
  {
   "cell_type": "code",
   "execution_count": 2,
   "id": "f5bca4b9-fdbe-47d9-a73d-8d47acb536bc",
   "metadata": {},
   "outputs": [],
   "source": [
    "#-------------------------- \n",
    "\n",
    "df = pd.read_csv('C:/Users/User/Desktop/Assignment 7-8/Data/Raw data/apartment_price_in_Kokshetau_with_rooms.csv')\n",
    "df = df.drop(columns=['Unnamed: 0'], axis=1)"
   ]
  },
  {
   "cell_type": "markdown",
   "id": "19e64c84-875f-4d9a-a7fa-a07a1af8af2a",
   "metadata": {},
   "source": [
    "#### 2 step. Analyse the dataset"
   ]
  },
  {
   "cell_type": "code",
   "execution_count": 3,
   "id": "0eab9709-222a-4349-8b5f-e25a0fa07ccd",
   "metadata": {},
   "outputs": [
    {
     "name": "stdout",
     "output_type": "stream",
     "text": [
      "<class 'pandas.core.frame.DataFrame'>\n",
      "RangeIndex: 7736 entries, 0 to 7735\n",
      "Data columns (total 16 columns):\n",
      " #   Column          Non-Null Count  Dtype  \n",
      "---  ------          --------------  -----  \n",
      " 0   Unnamed: 0.1    7736 non-null   int64  \n",
      " 1   price           7549 non-null   float64\n",
      " 2   room            7582 non-null   float64\n",
      " 3   area            7582 non-null   object \n",
      " 4   flat_toilets    3956 non-null   object \n",
      " 5   balcony         990 non-null    object \n",
      " 6   current_floors  7447 non-null   float64\n",
      " 7   total_floors    7447 non-null   float64\n",
      " 8   ceiling         3049 non-null   float64\n",
      " 9   dorm            4544 non-null   object \n",
      " 10  mortgage        308 non-null    object \n",
      " 11  year            7582 non-null   float64\n",
      " 12  type_of_house   6549 non-null   object \n",
      " 13  condition       3417 non-null   object \n",
      " 14  repair_status   2700 non-null   object \n",
      " 15  type_of_floor   2634 non-null   object \n",
      "dtypes: float64(6), int64(1), object(9)\n",
      "memory usage: 967.1+ KB\n",
      "None\n",
      "\n",
      "       Unnamed: 0.1        price    room  current_floors  total_floors  \\\n",
      "count        7736.0       7549.0  7582.0          7447.0        7447.0   \n",
      "mean         3867.5   19075812.2     2.2             4.1           6.5   \n",
      "std          2233.3   10722871.8     0.9             2.2           2.2   \n",
      "min             0.0    1900000.0     1.0             1.0           1.0   \n",
      "25%          1933.8   12648000.0     2.0             2.0           5.0   \n",
      "50%          3867.5   16900000.0     2.0             4.0           5.0   \n",
      "75%          5801.2   22136800.0     3.0             5.0           9.0   \n",
      "max          7735.0  180800000.0     7.0            11.0          14.0   \n",
      "\n",
      "       ceiling    year  \n",
      "count   3049.0  7582.0  \n",
      "mean       2.8  1999.6  \n",
      "std        2.1    20.6  \n",
      "min        2.0  1936.0  \n",
      "25%        2.7  1983.0  \n",
      "50%        2.7  1994.0  \n",
      "75%        2.8  2021.0  \n",
      "max      100.0  2025.0  \n",
      "\n",
      "Unnamed: 0.1         0\n",
      "price              187\n",
      "room               154\n",
      "area               154\n",
      "flat_toilets      3780\n",
      "balcony           6746\n",
      "current_floors     289\n",
      "total_floors       289\n",
      "ceiling           4687\n",
      "dorm              3192\n",
      "mortgage          7428\n",
      "year               154\n",
      "type_of_house     1187\n",
      "condition         4319\n",
      "repair_status     5036\n",
      "type_of_floor     5102\n",
      "dtype: int64\n",
      "\n",
      "type_of_house\n",
      "кирпичный     4538\n",
      "панельный     1783\n",
      "иной           117\n",
      "монолитный     111\n",
      "Name: count, dtype: int64\n"
     ]
    }
   ],
   "source": [
    "#-------------------------- \n",
    "\n",
    "print(df.info())\n",
    "print()\n",
    "print(df.describe().round(1))\n",
    "print()\n",
    "print(df.isnull().sum())\n",
    "print()\n",
    "print(df['type_of_house'].value_counts())"
   ]
  },
  {
   "cell_type": "markdown",
   "id": "8fd47f50-b606-4834-811d-9db6f8a85803",
   "metadata": {},
   "source": [
    "#### 3 step. Count of False in 'is_in_kokshetau' column"
   ]
  },
  {
   "cell_type": "code",
   "execution_count": 4,
   "id": "39c8deb3-4c25-4e17-a836-4aea2f53da29",
   "metadata": {},
   "outputs": [
    {
     "ename": "KeyError",
     "evalue": "'is_in_kokshetau'",
     "output_type": "error",
     "traceback": [
      "\u001b[1;31m---------------------------------------------------------------------------\u001b[0m",
      "\u001b[1;31mKeyError\u001b[0m                                  Traceback (most recent call last)",
      "File \u001b[1;32mC:\\anaconda3\\Lib\\site-packages\\pandas\\core\\indexes\\base.py:3791\u001b[0m, in \u001b[0;36mIndex.get_loc\u001b[1;34m(self, key)\u001b[0m\n\u001b[0;32m   3790\u001b[0m \u001b[38;5;28;01mtry\u001b[39;00m:\n\u001b[1;32m-> 3791\u001b[0m     \u001b[38;5;28;01mreturn\u001b[39;00m \u001b[38;5;28mself\u001b[39m\u001b[38;5;241m.\u001b[39m_engine\u001b[38;5;241m.\u001b[39mget_loc(casted_key)\n\u001b[0;32m   3792\u001b[0m \u001b[38;5;28;01mexcept\u001b[39;00m \u001b[38;5;167;01mKeyError\u001b[39;00m \u001b[38;5;28;01mas\u001b[39;00m err:\n",
      "File \u001b[1;32mindex.pyx:152\u001b[0m, in \u001b[0;36mpandas._libs.index.IndexEngine.get_loc\u001b[1;34m()\u001b[0m\n",
      "File \u001b[1;32mindex.pyx:181\u001b[0m, in \u001b[0;36mpandas._libs.index.IndexEngine.get_loc\u001b[1;34m()\u001b[0m\n",
      "File \u001b[1;32mpandas\\_libs\\hashtable_class_helper.pxi:7080\u001b[0m, in \u001b[0;36mpandas._libs.hashtable.PyObjectHashTable.get_item\u001b[1;34m()\u001b[0m\n",
      "File \u001b[1;32mpandas\\_libs\\hashtable_class_helper.pxi:7088\u001b[0m, in \u001b[0;36mpandas._libs.hashtable.PyObjectHashTable.get_item\u001b[1;34m()\u001b[0m\n",
      "\u001b[1;31mKeyError\u001b[0m: 'is_in_kokshetau'",
      "\nThe above exception was the direct cause of the following exception:\n",
      "\u001b[1;31mKeyError\u001b[0m                                  Traceback (most recent call last)",
      "Cell \u001b[1;32mIn[4], line 3\u001b[0m\n\u001b[0;32m      1\u001b[0m \u001b[38;5;66;03m#-------------------------- \u001b[39;00m\n\u001b[1;32m----> 3\u001b[0m count_false \u001b[38;5;241m=\u001b[39m (df[\u001b[38;5;124m'\u001b[39m\u001b[38;5;124mis_in_kokshetau\u001b[39m\u001b[38;5;124m'\u001b[39m] \u001b[38;5;241m==\u001b[39m \u001b[38;5;28;01mFalse\u001b[39;00m)\u001b[38;5;241m.\u001b[39msum()\n\u001b[0;32m      5\u001b[0m \u001b[38;5;28mprint\u001b[39m(\u001b[38;5;124m'\u001b[39m\u001b[38;5;124mSum of False in the \u001b[39m\u001b[38;5;124m\"\u001b[39m\u001b[38;5;124mis_in_kokshetau column\u001b[39m\u001b[38;5;124m\"\u001b[39m\u001b[38;5;124m:\u001b[39m\u001b[38;5;124m'\u001b[39m, count_false)\n\u001b[0;32m      6\u001b[0m \u001b[38;5;28mprint\u001b[39m()\n",
      "File \u001b[1;32mC:\\anaconda3\\Lib\\site-packages\\pandas\\core\\frame.py:3893\u001b[0m, in \u001b[0;36mDataFrame.__getitem__\u001b[1;34m(self, key)\u001b[0m\n\u001b[0;32m   3891\u001b[0m \u001b[38;5;28;01mif\u001b[39;00m \u001b[38;5;28mself\u001b[39m\u001b[38;5;241m.\u001b[39mcolumns\u001b[38;5;241m.\u001b[39mnlevels \u001b[38;5;241m>\u001b[39m \u001b[38;5;241m1\u001b[39m:\n\u001b[0;32m   3892\u001b[0m     \u001b[38;5;28;01mreturn\u001b[39;00m \u001b[38;5;28mself\u001b[39m\u001b[38;5;241m.\u001b[39m_getitem_multilevel(key)\n\u001b[1;32m-> 3893\u001b[0m indexer \u001b[38;5;241m=\u001b[39m \u001b[38;5;28mself\u001b[39m\u001b[38;5;241m.\u001b[39mcolumns\u001b[38;5;241m.\u001b[39mget_loc(key)\n\u001b[0;32m   3894\u001b[0m \u001b[38;5;28;01mif\u001b[39;00m is_integer(indexer):\n\u001b[0;32m   3895\u001b[0m     indexer \u001b[38;5;241m=\u001b[39m [indexer]\n",
      "File \u001b[1;32mC:\\anaconda3\\Lib\\site-packages\\pandas\\core\\indexes\\base.py:3798\u001b[0m, in \u001b[0;36mIndex.get_loc\u001b[1;34m(self, key)\u001b[0m\n\u001b[0;32m   3793\u001b[0m     \u001b[38;5;28;01mif\u001b[39;00m \u001b[38;5;28misinstance\u001b[39m(casted_key, \u001b[38;5;28mslice\u001b[39m) \u001b[38;5;129;01mor\u001b[39;00m (\n\u001b[0;32m   3794\u001b[0m         \u001b[38;5;28misinstance\u001b[39m(casted_key, abc\u001b[38;5;241m.\u001b[39mIterable)\n\u001b[0;32m   3795\u001b[0m         \u001b[38;5;129;01mand\u001b[39;00m \u001b[38;5;28many\u001b[39m(\u001b[38;5;28misinstance\u001b[39m(x, \u001b[38;5;28mslice\u001b[39m) \u001b[38;5;28;01mfor\u001b[39;00m x \u001b[38;5;129;01min\u001b[39;00m casted_key)\n\u001b[0;32m   3796\u001b[0m     ):\n\u001b[0;32m   3797\u001b[0m         \u001b[38;5;28;01mraise\u001b[39;00m InvalidIndexError(key)\n\u001b[1;32m-> 3798\u001b[0m     \u001b[38;5;28;01mraise\u001b[39;00m \u001b[38;5;167;01mKeyError\u001b[39;00m(key) \u001b[38;5;28;01mfrom\u001b[39;00m \u001b[38;5;21;01merr\u001b[39;00m\n\u001b[0;32m   3799\u001b[0m \u001b[38;5;28;01mexcept\u001b[39;00m \u001b[38;5;167;01mTypeError\u001b[39;00m:\n\u001b[0;32m   3800\u001b[0m     \u001b[38;5;66;03m# If we have a listlike key, _check_indexing_error will raise\u001b[39;00m\n\u001b[0;32m   3801\u001b[0m     \u001b[38;5;66;03m#  InvalidIndexError. Otherwise we fall through and re-raise\u001b[39;00m\n\u001b[0;32m   3802\u001b[0m     \u001b[38;5;66;03m#  the TypeError.\u001b[39;00m\n\u001b[0;32m   3803\u001b[0m     \u001b[38;5;28mself\u001b[39m\u001b[38;5;241m.\u001b[39m_check_indexing_error(key)\n",
      "\u001b[1;31mKeyError\u001b[0m: 'is_in_kokshetau'"
     ]
    }
   ],
   "source": [
    "#-------------------------- \n",
    "\n",
    "count_false = (df['is_in_kokshetau'] == False).sum()\n",
    "\n",
    "print('Sum of False in the \"is_in_kokshetau column\":', count_false)\n",
    "print()\n",
    "print(df.isna().sum())\n"
   ]
  },
  {
   "cell_type": "markdown",
   "id": "71742a4b-9ad9-41fe-a8a9-d1125256cf2b",
   "metadata": {},
   "source": [
    "#### 4 step. Drop duplicates, price where NaN, rows where column 'is_in_kokshetau' == False"
   ]
  },
  {
   "cell_type": "code",
   "execution_count": null,
   "id": "d059f26f-7958-49fd-92e0-1a444f0af07a",
   "metadata": {},
   "outputs": [],
   "source": [
    "#-------------------------- \n",
    "\n",
    "df.drop_duplicates(inplace=True)\n",
    "df = df.dropna(subset=['price']).reset_index(drop=True)\n",
    "df = df[df['is_in_kokshetau'] != False].reset_index(drop=True)\n",
    "\n",
    "df.reset_index(drop=True, inplace=True)\n",
    "df.head()"
   ]
  },
  {
   "cell_type": "markdown",
   "id": "3f288245-0262-4225-8c1f-0892c0e1bee6",
   "metadata": {},
   "source": [
    "#### 5 step. Fill in the NaN values with the value \"нет\""
   ]
  },
  {
   "cell_type": "code",
   "execution_count": null,
   "id": "226290c8-5b0a-4a8c-b092-e973d32f0c2d",
   "metadata": {},
   "outputs": [],
   "source": [
    "#-------------------------- \n",
    "\n",
    "df['mortgage'] = df['mortgage'].fillna('нет')\n",
    "df['balcony'] = df['balcony'].fillna('нет')\n",
    "df['dorm'] = df['dorm'].fillna('нет')\n",
    "df.isnull().sum()"
   ]
  },
  {
   "cell_type": "markdown",
   "id": "af4f0c80-ef23-4483-acf3-d880d0e1a026",
   "metadata": {},
   "source": [
    "#### 6 step. Fill in the NaN values with the value of mode or median "
   ]
  },
  {
   "cell_type": "code",
   "execution_count": null,
   "id": "384a8c1c-c07a-4ab4-8677-965e1645730a",
   "metadata": {},
   "outputs": [],
   "source": [
    "#-------------------------- \n",
    "\n",
    "df['ceiling'].fillna(df['ceiling'].median(), inplace=True)\n",
    "df['repair_status'].fillna(df['repair_status'].mode()[0], inplace=True)\n",
    "df['flat_toilets'].fillna(df['flat_toilets'].mode()[0], inplace=True)\n",
    "df['type_of_house'].fillna(df['type_of_house'].mode()[0], inplace=True)\n",
    "\n",
    "df.isnull().sum()"
   ]
  },
  {
   "cell_type": "markdown",
   "id": "9a569c93-4c0c-4d78-8b22-6a20ba75017a",
   "metadata": {},
   "source": [
    "#### 7 step. Analyse the non-null count and dtype"
   ]
  },
  {
   "cell_type": "code",
   "execution_count": null,
   "id": "c66a81e1-c0d6-4c77-b372-c507dd22353a",
   "metadata": {},
   "outputs": [],
   "source": [
    "#-------------------------- \n",
    "\n",
    "df.info()"
   ]
  },
  {
   "cell_type": "markdown",
   "id": "40fcd7b3-0a85-4b68-bb1a-142e3a7d107a",
   "metadata": {},
   "source": [
    "#### 8 step. Drop unnecessary columns and rows"
   ]
  },
  {
   "cell_type": "code",
   "execution_count": null,
   "id": "6172392d-2a31-4a3e-a5f1-f58941eeb681",
   "metadata": {},
   "outputs": [],
   "source": [
    "#-------------------------- \n",
    "\n",
    "df.drop(columns=['condition'], inplace=True)  \n",
    "df.drop(columns=['type_of_floor'], inplace=True)  \n",
    "df.dropna(subset=['current_floors', 'total_floors'], inplace=True)\n",
    "df = df[df['year'] != 2025]\n",
    "\n",
    "df.reset_index(drop=True, inplace=True)\n",
    "df.isnull().sum()"
   ]
  },
  {
   "cell_type": "markdown",
   "id": "bf4e8ba5-6366-4fc8-ae60-ba56422cb812",
   "metadata": {},
   "source": [
    "#### 9 step. Check the unique value of 'year' and 'ceiling' columns"
   ]
  },
  {
   "cell_type": "code",
   "execution_count": null,
   "id": "96096084-e6d3-4ec5-b3ea-59021bac5cd2",
   "metadata": {},
   "outputs": [],
   "source": [
    "#-------------------------- \n",
    "\n",
    "print(df['year'].unique())\n",
    "print()\n",
    "print(df['ceiling'].unique())\n"
   ]
  },
  {
   "cell_type": "markdown",
   "id": "ac1ae198-282d-4006-9151-ec84678f4761",
   "metadata": {},
   "source": [
    "#### 10 step. Replace the abnormal value with the median value"
   ]
  },
  {
   "cell_type": "code",
   "execution_count": null,
   "id": "8fddf17e-12cc-493c-9cdb-faa48ce674d1",
   "metadata": {},
   "outputs": [],
   "source": [
    "#-------------------------- \n",
    "\n",
    "print(df[df['ceiling'] == 100])\n",
    "\n",
    "df['ceiling'] = df['ceiling'].replace(100, df['ceiling'].median())\n",
    "\n",
    "print(df['ceiling'].unique())\n"
   ]
  },
  {
   "cell_type": "markdown",
   "id": "27992b86-348c-4a0c-9252-0a5551672a80",
   "metadata": {},
   "source": [
    "#### 11 step. Analyse the non-null count and dtype"
   ]
  },
  {
   "cell_type": "code",
   "execution_count": null,
   "id": "6c34f707-bb89-4e15-9a68-737626cf60f3",
   "metadata": {},
   "outputs": [],
   "source": [
    "#-------------------------- \n",
    "\n",
    "\n",
    "df.to_csv('apartment_price.csv')\n",
    "df.info()"
   ]
  },
  {
   "cell_type": "markdown",
   "id": "d45dee22-5df7-4db4-a020-15af4b289cb9",
   "metadata": {},
   "source": [
    "### 12 step. Convert to float and int"
   ]
  },
  {
   "cell_type": "code",
   "execution_count": null,
   "id": "0db61bc3-0ffc-4110-af2d-b9d4bcf6c7d8",
   "metadata": {},
   "outputs": [],
   "source": [
    "#-------------------------- \n",
    "\n",
    "df['area'] = df['area'].str.split(',').str[0]\n",
    "\n",
    "df['area'] = df['area'].astype(float)\n",
    "df['price'] = df['price'].astype(int)"
   ]
  },
  {
   "cell_type": "markdown",
   "id": "25b677cb-486a-4853-9c7b-3fd52b236161",
   "metadata": {},
   "source": [
    "### 13 step. Sort by area and show top 20"
   ]
  },
  {
   "cell_type": "code",
   "execution_count": null,
   "id": "4e5f80ab-f010-4f7c-9c12-57b460bd7273",
   "metadata": {},
   "outputs": [],
   "source": [
    "#-------------------------- \n",
    "\n",
    "top_20_area = df.sort_values(by='area', ascending=False).head(20)\n",
    "top_20_area"
   ]
  },
  {
   "cell_type": "markdown",
   "id": "23d9f1d9-73cc-4cd4-8930-95cbc50f03db",
   "metadata": {},
   "source": [
    "### 14 step. Drop the abnormal value"
   ]
  },
  {
   "cell_type": "code",
   "execution_count": null,
   "id": "9b7e6fb5-6682-4a90-886b-02061a3ab2e0",
   "metadata": {},
   "outputs": [],
   "source": [
    "#-------------------------- \n",
    "\n",
    "df = df.drop(index=[853, 555])\n",
    "df.reset_index(drop=True, inplace=True)\n",
    "\n",
    "df['area'].max()"
   ]
  },
  {
   "cell_type": "markdown",
   "id": "274fd28e-dc1a-4bec-b487-0b251092cd95",
   "metadata": {},
   "source": [
    "### 15 step. Ready Data"
   ]
  },
  {
   "cell_type": "code",
   "execution_count": null,
   "id": "02f4a44e-0711-47b8-b4ed-3c3d7f97c806",
   "metadata": {},
   "outputs": [],
   "source": [
    "#-------------------------- \n",
    "\n",
    "df.to_csv('apartment_price_in_Kokshetau.csv')\n",
    "df.head()"
   ]
  },
  {
   "cell_type": "markdown",
   "id": "e2242aed-7760-429a-b934-ff054d0d366e",
   "metadata": {},
   "source": [
    "# VISUALIZATIONS"
   ]
  },
  {
   "cell_type": "markdown",
   "id": "157cc0dc-b40d-45ec-b604-8cf42af9d38b",
   "metadata": {},
   "source": [
    "#### 0 step. Import necessary libraries"
   ]
  },
  {
   "cell_type": "code",
   "execution_count": null,
   "id": "40b54b19-43b6-46f2-8222-c49c986315f8",
   "metadata": {},
   "outputs": [],
   "source": [
    "#-------------------------- \n",
    "\n",
    "import seaborn as sns\n",
    "import matplotlib.pyplot as plt"
   ]
  },
  {
   "cell_type": "markdown",
   "id": "f4251674-cee3-48a0-a31e-fa87499aa067",
   "metadata": {},
   "source": [
    "#### 1 step. Draw histogram with Distribution of Price"
   ]
  },
  {
   "cell_type": "code",
   "execution_count": null,
   "id": "893792e1-a6e5-43ce-8207-0c76fb43d600",
   "metadata": {},
   "outputs": [],
   "source": [
    "#-------------------------- \n",
    "\n",
    "plt.figure(figsize=(8,6))\n",
    "plt.hist(df['price'].dropna(), bins=50, color='skyblue', edgecolor='black')\n",
    "plt.title('Distribution of Price')\n",
    "plt.xlabel('Price')\n",
    "plt.ylabel('Frequency')\n",
    "plt.grid(True)\n",
    "plt.show()"
   ]
  },
  {
   "cell_type": "markdown",
   "id": "5c08b902-096f-4102-8191-56bdcda836ca",
   "metadata": {},
   "source": [
    "#### 2 step. Draw a figure with price vs area"
   ]
  },
  {
   "cell_type": "code",
   "execution_count": null,
   "id": "2b34e423-3f44-45b9-b759-5e6ebdd72662",
   "metadata": {},
   "outputs": [],
   "source": [
    "#-------------------------- \n",
    "\n",
    "plt.figure(figsize=(8,6))\n",
    "sns.scatterplot(x='area', y='price', data=df, color='orange')\n",
    "\n",
    "\n",
    "plt.title('Price vs Area')\n",
    "plt.xlabel('Area (sq.m.)')\n",
    "plt.ylabel('Price')\n",
    "\n",
    "\n",
    "plt.xticks(rotation=45, ha='right')  \n",
    "plt.tight_layout()  \n",
    "\n",
    "plt.grid(True)\n",
    "plt.show()"
   ]
  },
  {
   "cell_type": "markdown",
   "id": "cf7912c1-89ce-414d-8f75-f4acb918fd88",
   "metadata": {},
   "source": [
    "#### 3 step. Boxplot with type of house and year"
   ]
  },
  {
   "cell_type": "code",
   "execution_count": null,
   "id": "577526df-f35c-4e93-872f-a4468dc25635",
   "metadata": {},
   "outputs": [],
   "source": [
    "#-------------------------- \n",
    "\n",
    "plt.figure(figsize=(10,6))\n",
    "sns.boxplot(x='type_of_house', y='year', data=df)\n",
    "plt.title('Year of Construction by Type of House')\n",
    "plt.xlabel('Type of House')\n",
    "plt.ylabel('Year')\n",
    "plt.xticks(rotation=45)\n",
    "plt.grid(True)\n",
    "plt.show()"
   ]
  },
  {
   "cell_type": "markdown",
   "id": "c49c5a5a-5a39-416b-817d-6a8f35a87d98",
   "metadata": {},
   "source": [
    "### 4 step. Correlation matrix"
   ]
  },
  {
   "cell_type": "code",
   "execution_count": null,
   "id": "8abad1cd-a43e-4c9b-af28-be4480a2574e",
   "metadata": {},
   "outputs": [],
   "source": [
    "numeric_columns = df.select_dtypes(include=[float, int]).columns\n",
    "correlation_matrix = df[numeric_columns].corr()\n",
    "\n",
    "plt.figure(figsize=(10, 8))\n",
    "sns.heatmap(correlation_matrix, annot=True, cmap='coolwarm', vmin=-1, vmax=1, linewidths=0.5)\n",
    "plt.title(\"Correlation matrix\")\n",
    "plt.show()"
   ]
  },
  {
   "cell_type": "code",
   "execution_count": null,
   "id": "287ff8ab-0619-4656-af2f-c2e0c1bfc2a2",
   "metadata": {},
   "outputs": [],
   "source": []
  }
 ],
 "metadata": {
  "kernelspec": {
   "display_name": "Python 3 (ipykernel)",
   "language": "python",
   "name": "python3"
  },
  "language_info": {
   "codemirror_mode": {
    "name": "ipython",
    "version": 3
   },
   "file_extension": ".py",
   "mimetype": "text/x-python",
   "name": "python",
   "nbconvert_exporter": "python",
   "pygments_lexer": "ipython3",
   "version": "3.11.7"
  }
 },
 "nbformat": 4,
 "nbformat_minor": 5
}
